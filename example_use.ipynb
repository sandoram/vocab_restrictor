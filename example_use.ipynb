{
 "cells": [
  {
   "cell_type": "code",
   "execution_count": null,
   "metadata": {},
   "outputs": [
    {
     "name": "stdout",
     "output_type": "stream",
     "text": [
      "The autoreload extension is already loaded. To reload it, use:\n",
      "  %reload_ext autoreload\n",
      "CPU times: user 1min 55s, sys: 24.9 s, total: 2min 20s\n",
      "Wall time: 5.55 s\n"
     ]
    }
   ],
   "source": [
    "%%time\n",
    "from vocab_restrictor import *\n",
    "%load_ext autoreload\n",
    "%autoreload 2\n",
    "\n",
    "v_shake = vocab_restrictor('books/shakespeare.txt')\n",
    "v_twain = vocab_restrictor('books/twain.txt')"
   ]
  },
  {
   "cell_type": "code",
   "execution_count": 9,
   "metadata": {},
   "outputs": [
    {
     "name": "stdout",
     "output_type": "stream",
     "text": [
      "The way to get started is to quit talking and begin doing. -Walt Disney\n",
      "---\n",
      "The way to get START(started) is to LEAVE(quit) SPEAKING(talking) and begin doing. WOOD(-Walt) LION(Disney)\n",
      "---\n",
      "The way to get started is to quit talking and begin doing. WOODED ALADDIN\n",
      "---\n",
      "Grammar: The way to get started is to quit talking and begin doing. -Walt Disney\n",
      "\n",
      "Your time is limited, so don't waste it living someone else's life. Don't be trapped by dogma – which is living with the results of other people's thinking. -Steve Jobs\n",
      "---\n",
      "Your time is limited, so don't waste it living ANYONE(someone) else's life. Don't be LACKED(trapped) by RELIGIOUS(dogma) XIII(–) which is living with the CONSEQUENTIAL(results) of other people's thinking. MICHAEL(-Steve) WORK(Jobs)\n",
      "---\n",
      "Your time is limited, so don't waste it living SOMEBODY else's life. Don't be TRIPPED by RELIGIOUS _ which is living with the RESULT of other people's thinking. MICHAEL CAREERS\n",
      "---\n",
      "Grammar: Your time is limited, so don't waste it living somebody else's life. Don't be tripped by religiousness – which is living with the results of other people's thinking. -Steve Jobs\n",
      "\n",
      "If life were predictable it would cease to be life, and be without flavor. -Eleanor Roosevelt\n",
      "---\n",
      "If life were PREPOSTEROUSLY(predictable) it would cease to be life, and be without FRAGRANT(flavor.) LILY(-Eleanor) ROSY(Roosevelt)\n",
      "---\n",
      "If life were EXPECTANTLY it would cease to be life, and be without flavor. LAWRENCE ROGERSES\n",
      "---\n",
      "Grammar: If life were expectantly it would cease to be life, and be without flavor. -Eleanor Roosevelt\n",
      "\n",
      "If you look at what you have in life, you'll always have more. If you look at what you don't have in life, you'll never have enough. -Oprah Winfrey\n",
      "---\n",
      "If you look at what you have in life, you'll always have more. If you look at what you don't have in life, you'll never have enough. GODDESS(-Oprah) VILE(Winfrey)\n",
      "---\n",
      "If you look at what you have in life, you'll always have more. If you look at what you don't have in life, you'll never have enough. REBECCA GRAPEVINE\n",
      "---\n",
      "Grammar: If you look at what you have in life, you'll always have more. If you look at what you don't have in life, you'll never have enough. -Oprah Winfrey\n",
      "\n",
      "If you set your goals ridiculously high and it's a failure, you will fail above everyone else's success. -James Cameron\n",
      "---\n",
      "If you set your goals GRACIOUSLY(ridiculously) high and it's a DEFEATED(failure,) you will LOSE(fail) above ANYONE(everyone) else's SUCCEEDING(success.) MICHAEL(-James) MERCHANDIZ(Cameron)\n",
      "---\n",
      "If you set your goals EXTREMELY high and it's a failure, you will FAILURE above EVERYBODY else's success. MICHAEL CHAMBER\n",
      "---\n",
      "Grammar: If you set your goals extremely high and it's a failure, you will fail above everybody else's success. -James Cameron\n",
      "\n",
      "The greatest glory in living lies not in never falling, but in rising every time we fall. -Nelson Mandela\n",
      "---\n",
      "The greatest glory in living lies not in never FALL(falling,) but in rising every time we fall. MICHAEL(-Nelson) MASONRY(Mandela)\n",
      "---\n",
      "The greatest glory in living LIE not in never falling, but in rising every time we fall. ROBINSON MICHAEL\n",
      "---\n",
      "Grammar: The greatest glory in living lies not in never falling, but in rising every time we fall. -Nelson Mandela\n",
      "\n",
      "Life is what happens when you're busy making other plans. -John Lennon\n",
      "---\n",
      "Life is what SOMETIME(happens) when you're busy making other PLOT(plans.) JOSEPH(-John) LION(Lennon)\n",
      "---\n",
      "Life is what happens when you're busy making other plans. JOHNNY LEXINGTON\n",
      "---\n",
      "Grammar: Life is what happens when you're busy making other plans. -John Lennon\n",
      "\n"
     ]
    }
   ],
   "source": [
    "quotes = \"\"\"The way to get started is to quit talking and begin doing. -Walt Disney\n",
    "Your time is limited, so don't waste it living someone else's life. Don't be trapped by dogma – which is living with the results of other people's thinking. -Steve Jobs\n",
    "If life were predictable it would cease to be life, and be without flavor. -Eleanor Roosevelt\n",
    "If you look at what you have in life, you'll always have more. If you look at what you don't have in life, you'll never have enough. -Oprah Winfrey\n",
    "If you set your goals ridiculously high and it's a failure, you will fail above everyone else's success. -James Cameron\n",
    "The greatest glory in living lies not in never falling, but in rising every time we fall. -Nelson Mandela\n",
    "Life is what happens when you're busy making other plans. -John Lennon\"\"\".split('\\n')\n",
    "\n",
    "for q in quotes:\n",
    "    print(q)\n",
    "    print('---')\n",
    "    print(v_shake.restrict(q))\n",
    "    print('---')\n",
    "    print(v_twain.restrict(q,'sus'))\n",
    "    print('---')\n",
    "    print('Grammar:', v_twain.restrict(q, 'grammatical'))\n",
    "    print()"
   ]
  },
  {
   "cell_type": "code",
   "execution_count": null,
   "metadata": {},
   "outputs": [],
   "source": []
  }
 ],
 "metadata": {
  "kernelspec": {
   "display_name": "vocab",
   "language": "python",
   "name": "vocab"
  },
  "language_info": {
   "codemirror_mode": {
    "name": "ipython",
    "version": 3
   },
   "file_extension": ".py",
   "mimetype": "text/x-python",
   "name": "python",
   "nbconvert_exporter": "python",
   "pygments_lexer": "ipython3",
   "version": "3.9.6"
  }
 },
 "nbformat": 4,
 "nbformat_minor": 4
}
